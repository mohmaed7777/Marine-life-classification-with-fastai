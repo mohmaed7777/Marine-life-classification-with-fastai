{
  "metadata": {
    "kernelspec": {
      "language": "python",
      "display_name": "Python 3",
      "name": "python3"
    },
    "language_info": {
      "name": "python",
      "version": "3.10.13",
      "mimetype": "text/x-python",
      "codemirror_mode": {
        "name": "ipython",
        "version": 3
      },
      "pygments_lexer": "ipython3",
      "nbconvert_exporter": "python",
      "file_extension": ".py"
    },
    "kaggle": {
      "accelerator": "gpu",
      "dataSources": [
        {
          "sourceId": 5198507,
          "sourceType": "datasetVersion",
          "datasetId": 2442436
        }
      ],
      "dockerImageVersionId": 30665,
      "isInternetEnabled": true,
      "language": "python",
      "sourceType": "notebook",
      "isGpuEnabled": true
    },
    "colab": {
      "name": "Sea animals classification with fastai",
      "provenance": [],
      "include_colab_link": true
    }
  },
  "nbformat_minor": 0,
  "nbformat": 4,
  "cells": [
    {
      "cell_type": "markdown",
      "metadata": {
        "id": "view-in-github",
        "colab_type": "text"
      },
      "source": [
        "<a href=\"https://colab.research.google.com/github/mohmaed7777/Marine-life-classification-with-fastai/blob/main/Sea_animals_classification_with_fastai.ipynb\" target=\"_parent\"><img src=\"https://colab.research.google.com/assets/colab-badge.svg\" alt=\"Open In Colab\"/></a>"
      ]
    },
    {
      "source": [
        "\n",
        "# IMPORTANT: RUN THIS CELL IN ORDER TO IMPORT YOUR KAGGLE DATA SOURCES\n",
        "# TO THE CORRECT LOCATION (/kaggle/input) IN YOUR NOTEBOOK,\n",
        "# THEN FEEL FREE TO DELETE THIS CELL.\n",
        "# NOTE: THIS NOTEBOOK ENVIRONMENT DIFFERS FROM KAGGLE'S PYTHON\n",
        "# ENVIRONMENT SO THERE MAY BE MISSING LIBRARIES USED BY YOUR\n",
        "# NOTEBOOK.\n",
        "\n",
        "import os\n",
        "import sys\n",
        "from tempfile import NamedTemporaryFile\n",
        "from urllib.request import urlopen\n",
        "from urllib.parse import unquote, urlparse\n",
        "from urllib.error import HTTPError\n",
        "from zipfile import ZipFile\n",
        "import tarfile\n",
        "import shutil\n",
        "\n",
        "CHUNK_SIZE = 40960\n",
        "DATA_SOURCE_MAPPING = 'sea-animals-image-dataste:https%3A%2F%2Fstorage.googleapis.com%2Fkaggle-data-sets%2F2442436%2F5198507%2Fbundle%2Farchive.zip%3FX-Goog-Algorithm%3DGOOG4-RSA-SHA256%26X-Goog-Credential%3Dgcp-kaggle-com%2540kaggle-161607.iam.gserviceaccount.com%252F20240308%252Fauto%252Fstorage%252Fgoog4_request%26X-Goog-Date%3D20240308T165604Z%26X-Goog-Expires%3D259200%26X-Goog-SignedHeaders%3Dhost%26X-Goog-Signature%3D233b3619037641088d915d34fb10e4a4dfc3cac83f0ee907d250258588f0a13f5d4929752840cb0e213d3bbb2ad9bd4add86266bc17e86d9f11f5e7cdd18e6bd11e0e5dadce676661290fd4bb6f741156959ca4adf81f65994199c17769bbbe6f13252a8c55dcbb68b2dba1f866bead4a4d5cc16868171a79aa6454a90227b5f6e666c6ac1dd52685b55d220e013e742b1780bb53bdfc98c13de189e8eb4cf57cc162942718960f779a0c8c95a05f1ce2d8486b87bc84cfcffa82171b29295662f80b528dc277eb41793e34a0e9af6136d03c617c398ba8b82070580bfb124e2d0e4e231889fc77d1deaa54cbf1b9adfe37be02fc03d46c51b57ad8adabe6dd3'\n",
        "\n",
        "KAGGLE_INPUT_PATH='/kaggle/input'\n",
        "KAGGLE_WORKING_PATH='/kaggle/working'\n",
        "KAGGLE_SYMLINK='kaggle'\n",
        "\n",
        "!umount /kaggle/input/ 2> /dev/null\n",
        "shutil.rmtree('/kaggle/input', ignore_errors=True)\n",
        "os.makedirs(KAGGLE_INPUT_PATH, 0o777, exist_ok=True)\n",
        "os.makedirs(KAGGLE_WORKING_PATH, 0o777, exist_ok=True)\n",
        "\n",
        "try:\n",
        "  os.symlink(KAGGLE_INPUT_PATH, os.path.join(\"..\", 'input'), target_is_directory=True)\n",
        "except FileExistsError:\n",
        "  pass\n",
        "try:\n",
        "  os.symlink(KAGGLE_WORKING_PATH, os.path.join(\"..\", 'working'), target_is_directory=True)\n",
        "except FileExistsError:\n",
        "  pass\n",
        "\n",
        "for data_source_mapping in DATA_SOURCE_MAPPING.split(','):\n",
        "    directory, download_url_encoded = data_source_mapping.split(':')\n",
        "    download_url = unquote(download_url_encoded)\n",
        "    filename = urlparse(download_url).path\n",
        "    destination_path = os.path.join(KAGGLE_INPUT_PATH, directory)\n",
        "    try:\n",
        "        with urlopen(download_url) as fileres, NamedTemporaryFile() as tfile:\n",
        "            total_length = fileres.headers['content-length']\n",
        "            print(f'Downloading {directory}, {total_length} bytes compressed')\n",
        "            dl = 0\n",
        "            data = fileres.read(CHUNK_SIZE)\n",
        "            while len(data) > 0:\n",
        "                dl += len(data)\n",
        "                tfile.write(data)\n",
        "                done = int(50 * dl / int(total_length))\n",
        "                sys.stdout.write(f\"\\r[{'=' * done}{' ' * (50-done)}] {dl} bytes downloaded\")\n",
        "                sys.stdout.flush()\n",
        "                data = fileres.read(CHUNK_SIZE)\n",
        "            if filename.endswith('.zip'):\n",
        "              with ZipFile(tfile) as zfile:\n",
        "                zfile.extractall(destination_path)\n",
        "            else:\n",
        "              with tarfile.open(tfile.name) as tarfile:\n",
        "                tarfile.extractall(destination_path)\n",
        "            print(f'\\nDownloaded and uncompressed: {directory}')\n",
        "    except HTTPError as e:\n",
        "        print(f'Failed to load (likely expired) {download_url} to path {destination_path}')\n",
        "        continue\n",
        "    except OSError as e:\n",
        "        print(f'Failed to load {download_url} to path {destination_path}')\n",
        "        continue\n",
        "\n",
        "print('Data source import complete.')\n"
      ],
      "metadata": {
        "id": "L4scloMl_lh-"
      },
      "cell_type": "code",
      "outputs": [],
      "execution_count": null
    },
    {
      "cell_type": "code",
      "source": [
        "import pandas as pd\n",
        "import numpy as np\n",
        "import torch\n",
        "import fastai\n",
        "from fastai.vision.all import *"
      ],
      "metadata": {
        "execution": {
          "iopub.status.busy": "2024-03-07T12:45:10.431315Z",
          "iopub.execute_input": "2024-03-07T12:45:10.431674Z",
          "iopub.status.idle": "2024-03-07T12:45:20.623547Z",
          "shell.execute_reply.started": "2024-03-07T12:45:10.431647Z",
          "shell.execute_reply": "2024-03-07T12:45:20.622503Z"
        },
        "trusted": true,
        "id": "tXC86keQ_liG"
      },
      "execution_count": null,
      "outputs": []
    },
    {
      "cell_type": "code",
      "source": [
        "path = Path('/kaggle/input/sea-animals-image-dataste')"
      ],
      "metadata": {
        "execution": {
          "iopub.status.busy": "2024-03-07T12:45:20.625307Z",
          "iopub.execute_input": "2024-03-07T12:45:20.625626Z",
          "iopub.status.idle": "2024-03-07T12:45:20.630444Z",
          "shell.execute_reply.started": "2024-03-07T12:45:20.6256Z",
          "shell.execute_reply": "2024-03-07T12:45:20.62901Z"
        },
        "trusted": true,
        "id": "y8Q8bLca_liH"
      },
      "execution_count": null,
      "outputs": []
    },
    {
      "cell_type": "code",
      "source": [
        "path.ls()"
      ],
      "metadata": {
        "execution": {
          "iopub.status.busy": "2024-03-07T12:45:20.631581Z",
          "iopub.execute_input": "2024-03-07T12:45:20.63197Z",
          "iopub.status.idle": "2024-03-07T12:45:20.660926Z",
          "shell.execute_reply.started": "2024-03-07T12:45:20.631938Z",
          "shell.execute_reply": "2024-03-07T12:45:20.660001Z"
        },
        "trusted": true,
        "id": "uWLSDED0_liI"
      },
      "execution_count": null,
      "outputs": []
    },
    {
      "cell_type": "markdown",
      "source": [
        "# **Start by createing a DataLoader:=**"
      ],
      "metadata": {
        "id": "1W6S2zww_liJ"
      }
    },
    {
      "cell_type": "code",
      "source": [
        "sea_animals = DataBlock (\n",
        "    blocks=(ImageBlock, CategoryBlock),\n",
        "    get_items=get_image_files,\n",
        "    splitter=RandomSplitter(valid_pct=0.2, seed=42),\n",
        "    get_y=parent_label,\n",
        "    item_tfms=Resize(128))"
      ],
      "metadata": {
        "execution": {
          "iopub.status.busy": "2024-03-07T12:45:20.662872Z",
          "iopub.execute_input": "2024-03-07T12:45:20.663484Z",
          "iopub.status.idle": "2024-03-07T12:45:20.670085Z",
          "shell.execute_reply.started": "2024-03-07T12:45:20.663459Z",
          "shell.execute_reply": "2024-03-07T12:45:20.669049Z"
        },
        "trusted": true,
        "id": "aYXfVwzT_liL"
      },
      "execution_count": null,
      "outputs": []
    },
    {
      "cell_type": "code",
      "source": [
        "dls = sea_animals.dataloaders(path)"
      ],
      "metadata": {
        "execution": {
          "iopub.status.busy": "2024-03-07T12:45:20.671408Z",
          "iopub.execute_input": "2024-03-07T12:45:20.671753Z",
          "iopub.status.idle": "2024-03-07T12:45:30.072525Z",
          "shell.execute_reply.started": "2024-03-07T12:45:20.671722Z",
          "shell.execute_reply": "2024-03-07T12:45:30.071279Z"
        },
        "trusted": true,
        "id": "8ZegoxY6_liN"
      },
      "execution_count": null,
      "outputs": []
    },
    {
      "cell_type": "markdown",
      "source": [
        "# **View Samples of our Data:=**"
      ],
      "metadata": {
        "id": "eHj78hDE_liO"
      }
    },
    {
      "cell_type": "code",
      "source": [
        "dls.train.show_batch(max_n=6, nrows=2)"
      ],
      "metadata": {
        "execution": {
          "iopub.status.busy": "2024-03-07T12:45:30.073774Z",
          "iopub.execute_input": "2024-03-07T12:45:30.074078Z",
          "iopub.status.idle": "2024-03-07T12:45:31.936134Z",
          "shell.execute_reply.started": "2024-03-07T12:45:30.074053Z",
          "shell.execute_reply": "2024-03-07T12:45:31.935119Z"
        },
        "trusted": true,
        "id": "XsT2H7Zb_liP"
      },
      "execution_count": null,
      "outputs": []
    },
    {
      "cell_type": "code",
      "source": [
        "dls.valid.show_batch(max_n=6, nrows=2)"
      ],
      "metadata": {
        "execution": {
          "iopub.status.busy": "2024-03-07T12:45:31.937518Z",
          "iopub.execute_input": "2024-03-07T12:45:31.937881Z",
          "iopub.status.idle": "2024-03-07T12:45:33.458226Z",
          "shell.execute_reply.started": "2024-03-07T12:45:31.937849Z",
          "shell.execute_reply": "2024-03-07T12:45:33.457198Z"
        },
        "trusted": true,
        "id": "zirzN956_liQ"
      },
      "execution_count": null,
      "outputs": []
    },
    {
      "cell_type": "code",
      "source": [
        "print(dls.vocab)"
      ],
      "metadata": {
        "execution": {
          "iopub.status.busy": "2024-03-07T12:45:33.459606Z",
          "iopub.execute_input": "2024-03-07T12:45:33.459944Z",
          "iopub.status.idle": "2024-03-07T12:45:33.465834Z",
          "shell.execute_reply.started": "2024-03-07T12:45:33.459914Z",
          "shell.execute_reply": "2024-03-07T12:45:33.464783Z"
        },
        "trusted": true,
        "id": "JEAcbCqw_liR"
      },
      "execution_count": null,
      "outputs": []
    },
    {
      "cell_type": "markdown",
      "source": [
        "**Check the dataset length:**"
      ],
      "metadata": {
        "id": "GdwlMeMR_liS"
      }
    },
    {
      "cell_type": "code",
      "source": [
        "len(dls.train_ds), len(dls.valid_ds)"
      ],
      "metadata": {
        "execution": {
          "iopub.status.busy": "2024-03-07T12:45:33.467156Z",
          "iopub.execute_input": "2024-03-07T12:45:33.467528Z",
          "iopub.status.idle": "2024-03-07T12:45:33.477487Z",
          "shell.execute_reply.started": "2024-03-07T12:45:33.467497Z",
          "shell.execute_reply": "2024-03-07T12:45:33.476354Z"
        },
        "trusted": true,
        "id": "NPlguUZv_liS"
      },
      "execution_count": null,
      "outputs": []
    },
    {
      "cell_type": "markdown",
      "source": [
        "# **Initializing our Baseline:=**\n",
        "\n",
        "**Start with Resnet50 model:**"
      ],
      "metadata": {
        "id": "t14HRpCU_liT"
      }
    },
    {
      "cell_type": "code",
      "source": [
        "learn = vision_learner(dls, resnet50, metrics=error_rate)\n",
        "learn.fine_tune(6)"
      ],
      "metadata": {
        "execution": {
          "iopub.status.busy": "2024-03-07T12:45:33.482131Z",
          "iopub.execute_input": "2024-03-07T12:45:33.482529Z",
          "iopub.status.idle": "2024-03-07T12:49:54.856856Z",
          "shell.execute_reply.started": "2024-03-07T12:45:33.482499Z",
          "shell.execute_reply": "2024-03-07T12:49:54.855776Z"
        },
        "trusted": true,
        "id": "-kBT47Wt_liT"
      },
      "execution_count": null,
      "outputs": []
    },
    {
      "cell_type": "markdown",
      "source": [
        "# **Model Interpretation:=**"
      ],
      "metadata": {
        "id": "NOm2qyx8_liU"
      }
    },
    {
      "cell_type": "code",
      "source": [
        "# Get the top losses:=\n",
        "interp = ClassificationInterpretation.from_learner(learn)\n",
        "interp.plot_top_losses(3, nrows=3)"
      ],
      "metadata": {
        "execution": {
          "iopub.status.busy": "2024-03-07T12:49:54.85889Z",
          "iopub.execute_input": "2024-03-07T12:49:54.859325Z",
          "iopub.status.idle": "2024-03-07T12:50:01.924849Z",
          "shell.execute_reply.started": "2024-03-07T12:49:54.859275Z",
          "shell.execute_reply": "2024-03-07T12:50:01.923812Z"
        },
        "trusted": true,
        "id": "1GGJcrS6_liU"
      },
      "execution_count": null,
      "outputs": []
    },
    {
      "cell_type": "markdown",
      "source": [
        "# **Image Processing using DataAugmentation (Aug transform)methodolgy:=**"
      ],
      "metadata": {
        "id": "OkYvoR4f_liU"
      }
    },
    {
      "cell_type": "code",
      "source": [
        "sea_animals = sea_animals.new(item_tfms=Resize(128), batch_tfms=aug_transforms(mult=2))\n",
        "dls = sea_animals.dataloaders(path)"
      ],
      "metadata": {
        "execution": {
          "iopub.status.busy": "2024-03-07T12:50:01.926356Z",
          "iopub.execute_input": "2024-03-07T12:50:01.926669Z",
          "iopub.status.idle": "2024-03-07T12:50:02.458489Z",
          "shell.execute_reply.started": "2024-03-07T12:50:01.926639Z",
          "shell.execute_reply": "2024-03-07T12:50:02.45741Z"
        },
        "trusted": true,
        "id": "d4bPgBoj_liV"
      },
      "execution_count": null,
      "outputs": []
    },
    {
      "cell_type": "markdown",
      "source": [
        "# **See our dataset again after we apply Aug_transform:**"
      ],
      "metadata": {
        "id": "NvLozBRG_liV"
      }
    },
    {
      "cell_type": "code",
      "source": [
        "dls.train.show_batch(max_n=6, nrows=3)"
      ],
      "metadata": {
        "execution": {
          "iopub.status.busy": "2024-03-07T12:50:02.459946Z",
          "iopub.execute_input": "2024-03-07T12:50:02.460364Z",
          "iopub.status.idle": "2024-03-07T12:50:03.646559Z",
          "shell.execute_reply.started": "2024-03-07T12:50:02.460327Z",
          "shell.execute_reply": "2024-03-07T12:50:03.645399Z"
        },
        "trusted": true,
        "id": "F91wjONn_liV"
      },
      "execution_count": null,
      "outputs": []
    },
    {
      "cell_type": "markdown",
      "source": [
        "# **Train the model:=**"
      ],
      "metadata": {
        "id": "sZ9XO-9M_liW"
      }
    },
    {
      "cell_type": "code",
      "source": [
        "learn = vision_learner(dls, resnet50, metrics=error_rate)\n",
        "learn.fine_tune(6)"
      ],
      "metadata": {
        "execution": {
          "iopub.status.busy": "2024-03-07T12:50:03.648034Z",
          "iopub.execute_input": "2024-03-07T12:50:03.648435Z",
          "iopub.status.idle": "2024-03-07T12:54:20.226286Z",
          "shell.execute_reply.started": "2024-03-07T12:50:03.648398Z",
          "shell.execute_reply": "2024-03-07T12:54:20.225032Z"
        },
        "trusted": true,
        "id": "ZLtKkWT2_liW"
      },
      "execution_count": null,
      "outputs": []
    },
    {
      "cell_type": "markdown",
      "source": [
        "**As we see our model has improved than the last time , next step will try another method that will give us better results.**"
      ],
      "metadata": {
        "id": "p3Jlp-F1_liX"
      }
    },
    {
      "cell_type": "markdown",
      "source": [
        "# **Presizing:=**"
      ],
      "metadata": {
        "id": "Uqd6rWc1_liX"
      }
    },
    {
      "cell_type": "code",
      "source": [
        "sea_animals = DataBlock(\n",
        "    blocks = (ImageBlock,CategoryBlock),\n",
        "    get_items = get_image_files,\n",
        "    get_y= parent_label,\n",
        "    item_tfms=Resize(460),\n",
        "    batch_tfms=aug_transforms(size=224, min_scale=0.75))"
      ],
      "metadata": {
        "execution": {
          "iopub.status.busy": "2024-03-07T12:54:20.228302Z",
          "iopub.execute_input": "2024-03-07T12:54:20.228743Z",
          "iopub.status.idle": "2024-03-07T12:54:20.239326Z",
          "shell.execute_reply.started": "2024-03-07T12:54:20.228696Z",
          "shell.execute_reply": "2024-03-07T12:54:20.23821Z"
        },
        "trusted": true,
        "id": "wFo_cO0z_liX"
      },
      "execution_count": null,
      "outputs": []
    },
    {
      "cell_type": "code",
      "source": [
        "dls = sea_animals.dataloaders(path)"
      ],
      "metadata": {
        "execution": {
          "iopub.status.busy": "2024-03-07T12:54:20.240837Z",
          "iopub.execute_input": "2024-03-07T12:54:20.241211Z",
          "iopub.status.idle": "2024-03-07T12:54:21.304819Z",
          "shell.execute_reply.started": "2024-03-07T12:54:20.241177Z",
          "shell.execute_reply": "2024-03-07T12:54:21.303835Z"
        },
        "trusted": true,
        "id": "yENdW82b_liY"
      },
      "execution_count": null,
      "outputs": []
    },
    {
      "cell_type": "code",
      "source": [
        "dls.train.show_batch(max_n=6, nrows=3)"
      ],
      "metadata": {
        "execution": {
          "iopub.status.busy": "2024-03-07T12:54:21.30603Z",
          "iopub.execute_input": "2024-03-07T12:54:21.306655Z",
          "iopub.status.idle": "2024-03-07T12:54:22.613569Z",
          "shell.execute_reply.started": "2024-03-07T12:54:21.306623Z",
          "shell.execute_reply": "2024-03-07T12:54:22.612198Z"
        },
        "trusted": true,
        "id": "bGAkVA0__liY"
      },
      "execution_count": null,
      "outputs": []
    },
    {
      "cell_type": "markdown",
      "source": [
        "# **Make a new training with Presizing method:=**"
      ],
      "metadata": {
        "id": "l5o41tvh_liZ"
      }
    },
    {
      "cell_type": "code",
      "source": [
        "learn = vision_learner(dls, resnet50, metrics=error_rate)\n",
        "learn.fine_tune(11)"
      ],
      "metadata": {
        "execution": {
          "iopub.status.busy": "2024-03-07T12:54:22.615162Z",
          "iopub.execute_input": "2024-03-07T12:54:22.615866Z",
          "iopub.status.idle": "2024-03-07T13:09:50.152012Z",
          "shell.execute_reply.started": "2024-03-07T12:54:22.615826Z",
          "shell.execute_reply": "2024-03-07T13:09:50.150814Z"
        },
        "trusted": true,
        "id": "s1KwHSMu_liZ"
      },
      "execution_count": null,
      "outputs": []
    },
    {
      "cell_type": "markdown",
      "source": [
        "# **Model Interpretation:=**"
      ],
      "metadata": {
        "id": "tV06Rmkc_liZ"
      }
    },
    {
      "cell_type": "code",
      "source": [
        "presize_interp = ClassificationInterpretation.from_learner(learn)\n",
        "presize_interp.plot_top_losses(6, nrows=3)"
      ],
      "metadata": {
        "execution": {
          "iopub.status.busy": "2024-03-07T13:09:50.153787Z",
          "iopub.execute_input": "2024-03-07T13:09:50.154136Z",
          "iopub.status.idle": "2024-03-07T13:10:04.116631Z",
          "shell.execute_reply.started": "2024-03-07T13:09:50.154104Z",
          "shell.execute_reply": "2024-03-07T13:10:04.115545Z"
        },
        "trusted": true,
        "id": "sT8cnRuA_lia"
      },
      "execution_count": null,
      "outputs": []
    },
    {
      "cell_type": "markdown",
      "source": [
        "# **Get the most confused predictions:**"
      ],
      "metadata": {
        "id": "jP-iFARh_lia"
      }
    },
    {
      "cell_type": "code",
      "source": [
        "presize_interp.most_confused(min_val=5)"
      ],
      "metadata": {
        "execution": {
          "iopub.status.busy": "2024-03-07T13:10:04.118104Z",
          "iopub.execute_input": "2024-03-07T13:10:04.118486Z",
          "iopub.status.idle": "2024-03-07T13:10:16.070543Z",
          "shell.execute_reply.started": "2024-03-07T13:10:04.118453Z",
          "shell.execute_reply": "2024-03-07T13:10:16.0693Z"
        },
        "trusted": true,
        "id": "xSgglKlJ_lib"
      },
      "execution_count": null,
      "outputs": []
    },
    {
      "cell_type": "markdown",
      "source": [
        "# **Improving the model by finding the best Learning Rate:**"
      ],
      "metadata": {
        "id": "yu5VmrUg_lib"
      }
    },
    {
      "cell_type": "code",
      "source": [
        "learn = vision_learner(dls, resnet50, metrics=error_rate)\n",
        "lrs= learn.lr_find(suggest_funcs=(minimum, steep, valley, slide))"
      ],
      "metadata": {
        "execution": {
          "iopub.status.busy": "2024-03-07T13:10:16.072704Z",
          "iopub.execute_input": "2024-03-07T13:10:16.073095Z",
          "iopub.status.idle": "2024-03-07T13:10:48.363015Z",
          "shell.execute_reply.started": "2024-03-07T13:10:16.073057Z",
          "shell.execute_reply": "2024-03-07T13:10:48.361841Z"
        },
        "trusted": true,
        "id": "4pRCMf4U_lib"
      },
      "execution_count": null,
      "outputs": []
    },
    {
      "cell_type": "markdown",
      "source": [
        "# **Train the model with new suggestive Learning Rate:=**"
      ],
      "metadata": {
        "id": "1b-cXtby_lic"
      }
    },
    {
      "cell_type": "code",
      "source": [
        "learn = vision_learner(dls, resnet50, metrics=error_rate)\n",
        "learn.fine_tune(11, lrs.valley)"
      ],
      "metadata": {
        "execution": {
          "iopub.status.busy": "2024-03-07T13:10:48.365174Z",
          "iopub.execute_input": "2024-03-07T13:10:48.365568Z",
          "iopub.status.idle": "2024-03-07T13:26:20.904026Z",
          "shell.execute_reply.started": "2024-03-07T13:10:48.365526Z",
          "shell.execute_reply": "2024-03-07T13:26:20.902844Z"
        },
        "trusted": true,
        "id": "zvQpEvc-_lic"
      },
      "execution_count": null,
      "outputs": []
    },
    {
      "cell_type": "markdown",
      "source": [
        "# **Unfreezing the model:=**"
      ],
      "metadata": {
        "id": "ASuh-BNN_lic"
      }
    },
    {
      "cell_type": "markdown",
      "source": [
        "**The pretrained models, such as the ResNet model that we are using right now, can be used on data other than this completely and for another task, and this whats called Transfer Learning.**\n",
        "\n",
        "**Because the model was trained on some other dataset, we might be able to improve it by effectivley removing the final linear layer of the model- which is specifically designed to classifiy the categories in the original pretraining dataset - and replace it with a layer specific to our dataset.**"
      ],
      "metadata": {
        "id": "BUqzTcnZ_lix"
      }
    },
    {
      "cell_type": "markdown",
      "source": [
        "**From FastAI:**\n",
        "\n",
        "**We want to train a model in such a way that we allow it to remember all of these generally useful ideas from the pretrained model, use them to solve our particular task, and only adjust them as required for the specifics of our particular task.**\n",
        "\n",
        "**Our challenge when fine-tuning is to replace the random weights in our added linear layers with weights that correctly achieve our desired task without breaking the carefully pretrained weights and the other layers. There is actually a very simple trick to allow this to happen: tell the optimizer to only update the weights in those randomly added final layers. Don't change the weights in the rest of the neural network at all. This is called freezing those pretrained layers.**\n",
        "\n",
        "**When we call the fine_tune method FastAI does two things:**\n",
        "\n",
        "**Trains the randomly added layers for one epoch, with all other layers frozen.**\n",
        "\n",
        "**Unfreezes all of the layers, and trains them all for the number of epochs requested.**"
      ],
      "metadata": {
        "id": "ICZw0sFc_lix"
      }
    },
    {
      "cell_type": "code",
      "source": [
        "learn.unfreeze()\n",
        "lrs = learn.lr_find(suggest_funcs=(minimum, steep, valley, slide))"
      ],
      "metadata": {
        "execution": {
          "iopub.status.busy": "2024-03-07T13:26:20.905668Z",
          "iopub.execute_input": "2024-03-07T13:26:20.906043Z",
          "iopub.status.idle": "2024-03-07T13:26:47.253932Z",
          "shell.execute_reply.started": "2024-03-07T13:26:20.906006Z",
          "shell.execute_reply": "2024-03-07T13:26:47.252678Z"
        },
        "trusted": true,
        "id": "SFuOqnxB_liy"
      },
      "execution_count": null,
      "outputs": []
    },
    {
      "cell_type": "code",
      "source": [
        "learn.fit_one_cycle(10, slice(lrs.minimum, lrs.slide))"
      ],
      "metadata": {
        "execution": {
          "iopub.status.busy": "2024-03-07T13:26:47.255515Z",
          "iopub.execute_input": "2024-03-07T13:26:47.255835Z",
          "iopub.status.idle": "2024-03-07T13:39:50.946388Z",
          "shell.execute_reply.started": "2024-03-07T13:26:47.255794Z",
          "shell.execute_reply": "2024-03-07T13:39:50.945259Z"
        },
        "trusted": true,
        "id": "YoAdv59q_liy"
      },
      "execution_count": null,
      "outputs": []
    },
    {
      "cell_type": "markdown",
      "source": [
        "# **Model Interpretation:=**"
      ],
      "metadata": {
        "id": "U6SlNohO_liy"
      }
    },
    {
      "cell_type": "code",
      "source": [
        "presize_interp_2 = ClassificationInterpretation.from_learner(learn)\n",
        "presize_interp_2.plot_top_losses(6, nrows=3)"
      ],
      "metadata": {
        "execution": {
          "iopub.status.busy": "2024-03-07T13:53:17.909767Z",
          "iopub.execute_input": "2024-03-07T13:53:17.910187Z",
          "iopub.status.idle": "2024-03-07T13:53:30.958452Z",
          "shell.execute_reply.started": "2024-03-07T13:53:17.910154Z",
          "shell.execute_reply": "2024-03-07T13:53:30.957194Z"
        },
        "trusted": true,
        "id": "47FMcu26_liz"
      },
      "execution_count": null,
      "outputs": []
    },
    {
      "cell_type": "code",
      "source": [],
      "metadata": {
        "id": "6tP0f_Oy_liz"
      },
      "execution_count": null,
      "outputs": []
    },
    {
      "cell_type": "code",
      "source": [],
      "metadata": {
        "id": "R2nsKJV6_liz"
      },
      "execution_count": null,
      "outputs": []
    }
  ]
}